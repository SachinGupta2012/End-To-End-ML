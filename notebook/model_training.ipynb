{
 "cells": [
  {
   "cell_type": "code",
   "execution_count": 1,
   "id": "438bf7da",
   "metadata": {},
   "outputs": [],
   "source": [
    "import pandas as pd\n",
    "import numpy as np\n",
    "import matplotlib.pyplot as plt\n",
    "import seaborn as sns\n",
    "from sklearn.model_selection import train_test_split,RandomizedSearchCV,GridSearchCV\n",
    "from sklearn.linear_model import LinearRegression, Ridge, Lasso\n",
    "from sklearn.preprocessing import StandardScaler, PolynomialFeatures\n",
    "from sklearn.ensemble import RandomForestRegressor,AdaBoostRegressor\n",
    "from sklearn.tree import DecisionTreeRegressor\n",
    "from sklearn.svm import SVR\n",
    "from sklearn.metrics import mean_squared_error, r2_score,mean_absolute_error\n",
    "from catboost import CatBoostRegressor\n",
    "from xgboost import XGBRegressor"
   ]
  },
  {
   "cell_type": "code",
   "execution_count": 2,
   "id": "b918bdc6",
   "metadata": {},
   "outputs": [],
   "source": [
    "data=pd.read_csv('/home/sachingpt/ML-Project/notebook/StudentsPerformance.csv')"
   ]
  },
  {
   "cell_type": "code",
   "execution_count": 3,
   "id": "ec6b380d",
   "metadata": {},
   "outputs": [
    {
     "data": {
      "text/html": [
       "<div>\n",
       "<style scoped>\n",
       "    .dataframe tbody tr th:only-of-type {\n",
       "        vertical-align: middle;\n",
       "    }\n",
       "\n",
       "    .dataframe tbody tr th {\n",
       "        vertical-align: top;\n",
       "    }\n",
       "\n",
       "    .dataframe thead th {\n",
       "        text-align: right;\n",
       "    }\n",
       "</style>\n",
       "<table border=\"1\" class=\"dataframe\">\n",
       "  <thead>\n",
       "    <tr style=\"text-align: right;\">\n",
       "      <th></th>\n",
       "      <th>gender</th>\n",
       "      <th>race/ethnicity</th>\n",
       "      <th>parental level of education</th>\n",
       "      <th>lunch</th>\n",
       "      <th>test preparation course</th>\n",
       "      <th>math score</th>\n",
       "      <th>reading score</th>\n",
       "      <th>writing score</th>\n",
       "    </tr>\n",
       "  </thead>\n",
       "  <tbody>\n",
       "    <tr>\n",
       "      <th>0</th>\n",
       "      <td>female</td>\n",
       "      <td>group B</td>\n",
       "      <td>bachelor's degree</td>\n",
       "      <td>standard</td>\n",
       "      <td>none</td>\n",
       "      <td>72</td>\n",
       "      <td>72</td>\n",
       "      <td>74</td>\n",
       "    </tr>\n",
       "    <tr>\n",
       "      <th>1</th>\n",
       "      <td>female</td>\n",
       "      <td>group C</td>\n",
       "      <td>some college</td>\n",
       "      <td>standard</td>\n",
       "      <td>completed</td>\n",
       "      <td>69</td>\n",
       "      <td>90</td>\n",
       "      <td>88</td>\n",
       "    </tr>\n",
       "    <tr>\n",
       "      <th>2</th>\n",
       "      <td>female</td>\n",
       "      <td>group B</td>\n",
       "      <td>master's degree</td>\n",
       "      <td>standard</td>\n",
       "      <td>none</td>\n",
       "      <td>90</td>\n",
       "      <td>95</td>\n",
       "      <td>93</td>\n",
       "    </tr>\n",
       "    <tr>\n",
       "      <th>3</th>\n",
       "      <td>male</td>\n",
       "      <td>group A</td>\n",
       "      <td>associate's degree</td>\n",
       "      <td>free/reduced</td>\n",
       "      <td>none</td>\n",
       "      <td>47</td>\n",
       "      <td>57</td>\n",
       "      <td>44</td>\n",
       "    </tr>\n",
       "    <tr>\n",
       "      <th>4</th>\n",
       "      <td>male</td>\n",
       "      <td>group C</td>\n",
       "      <td>some college</td>\n",
       "      <td>standard</td>\n",
       "      <td>none</td>\n",
       "      <td>76</td>\n",
       "      <td>78</td>\n",
       "      <td>75</td>\n",
       "    </tr>\n",
       "  </tbody>\n",
       "</table>\n",
       "</div>"
      ],
      "text/plain": [
       "   gender race/ethnicity  ... reading score writing score\n",
       "0  female        group B  ...            72            74\n",
       "1  female        group C  ...            90            88\n",
       "2  female        group B  ...            95            93\n",
       "3    male        group A  ...            57            44\n",
       "4    male        group C  ...            78            75\n",
       "\n",
       "[5 rows x 8 columns]"
      ]
     },
     "execution_count": 3,
     "metadata": {},
     "output_type": "execute_result"
    }
   ],
   "source": [
    "data.head()"
   ]
  },
  {
   "cell_type": "code",
   "execution_count": 4,
   "id": "322c041e",
   "metadata": {},
   "outputs": [],
   "source": [
    "X=data.drop('math score',axis=1)"
   ]
  },
  {
   "cell_type": "code",
   "execution_count": 5,
   "id": "5d8bfc5e",
   "metadata": {},
   "outputs": [],
   "source": [
    "y=data['math score']"
   ]
  },
  {
   "cell_type": "code",
   "execution_count": 6,
   "id": "d03d6d19",
   "metadata": {},
   "outputs": [],
   "source": [
    "#Create column transformers with 3 types of transformers\n",
    "from sklearn.compose import ColumnTransformer\n",
    "from sklearn.preprocessing import OneHotEncoder, StandardScaler\n",
    "numeric_features =X.select_dtypes(include=['int64', 'float64']).columns\n",
    "categorical_features = X.select_dtypes(include=['object']).columns\n",
    "numeric_transformer = StandardScaler()\n",
    "categorical_transformer = OneHotEncoder()\n",
    "\n",
    "preprocessor = ColumnTransformer(\n",
    "    transformers=[\n",
    "        ('OneHotEncoder', categorical_transformer, categorical_features),\n",
    "        ('StandardScaler', numeric_transformer, numeric_features),\n",
    "    ])"
   ]
  },
  {
   "cell_type": "code",
   "execution_count": 7,
   "id": "621be14e",
   "metadata": {},
   "outputs": [],
   "source": [
    "X=preprocessor.fit_transform(X)"
   ]
  },
  {
   "cell_type": "code",
   "execution_count": 9,
   "id": "0b1d9871",
   "metadata": {},
   "outputs": [
    {
     "data": {
      "text/plain": [
       "(1000, 19)"
      ]
     },
     "execution_count": 9,
     "metadata": {},
     "output_type": "execute_result"
    }
   ],
   "source": [
    "X.shape"
   ]
  },
  {
   "cell_type": "code",
   "execution_count": 10,
   "id": "05af74d5",
   "metadata": {},
   "outputs": [
    {
     "data": {
      "text/plain": [
       "((800, 19), (200, 19), (800,), (200,))"
      ]
     },
     "execution_count": 10,
     "metadata": {},
     "output_type": "execute_result"
    }
   ],
   "source": [
    "X_train, X_test, y_train, y_test = train_test_split(X, y, test_size=0.2, random_state=42)\n",
    "X_train.shape, X_test.shape, y_train.shape, y_test.shape"
   ]
  },
  {
   "cell_type": "code",
   "execution_count": 15,
   "id": "40ed3941",
   "metadata": {},
   "outputs": [],
   "source": [
    "def evaluate_model(true,predicted):\n",
    "    mse = mean_squared_error(true, predicted)\n",
    "    rmse = np.sqrt(mse)\n",
    "    r2 = r2_score(true, predicted)\n",
    "    mae = mean_absolute_error(true, predicted)\n",
    "    return rmse, r2, mae\n"
   ]
  },
  {
   "cell_type": "code",
   "execution_count": 16,
   "id": "9bde99dd",
   "metadata": {},
   "outputs": [
    {
     "name": "stdout",
     "output_type": "stream",
     "text": [
      "Linear Regression\n",
      "Model Performance on Train Data:\n",
      "MAE: 5.323050852720514, R2: 0.8743172040139593, RMSE: 4.266711846071957\n",
      "Model Performance on Test Data:\n",
      "MAE: 5.393993869732844, R2: 0.8804332983749564, RMSE: 4.214763142474852\n",
      "-----------------------------------\n",
      "==================================================\n",
      "\n",
      "\n",
      "Ridge Regression\n",
      "Model Performance on Train Data:\n",
      "MAE: 5.323324922741654, R2: 0.8743042615212909, RMSE: 4.264987823725981\n",
      "Model Performance on Test Data:\n",
      "MAE: 5.390387016935638, R2: 0.8805931485028738, RMSE: 4.211100688014259\n",
      "-----------------------------------\n",
      "==================================================\n",
      "\n",
      "\n",
      "Lasso Regression\n",
      "Model Performance on Train Data:\n",
      "MAE: 6.593815587795566, R2: 0.8071462015863456, RMSE: 5.206302661246526\n",
      "Model Performance on Test Data:\n",
      "MAE: 6.519694535667419, R2: 0.8253197323627853, RMSE: 5.157881810347763\n",
      "-----------------------------------\n",
      "==================================================\n",
      "\n",
      "\n",
      "Decision Tree Regressor\n",
      "Model Performance on Train Data:\n",
      "MAE: 0.2795084971874737, R2: 0.9996534669718089, RMSE: 0.01875\n",
      "Model Performance on Test Data:\n",
      "MAE: 8.28945112778886, R2: 0.7176154688285943, RMSE: 6.655\n",
      "-----------------------------------\n",
      "==================================================\n",
      "\n",
      "\n",
      "Random Forest Regressor\n",
      "Model Performance on Train Data:\n",
      "MAE: 2.2891729585597917, R2: 0.9767559491186601, RMSE: 1.8137968750000004\n",
      "Model Performance on Test Data:\n",
      "MAE: 6.069221530771746, R2: 0.848624590325311, RMSE: 4.692079166666666\n",
      "-----------------------------------\n",
      "==================================================\n",
      "\n",
      "\n",
      "AdaBoost Regressor\n",
      "Model Performance on Train Data:\n",
      "MAE: 5.82341973509217, R2: 0.8495781965807225, RMSE: 4.752315642887204\n",
      "Model Performance on Test Data:\n",
      "MAE: 6.033022901149998, R2: 0.8504249007727496, RMSE: 4.7153825762088415\n",
      "-----------------------------------\n",
      "==================================================\n",
      "\n",
      "\n",
      "Support Vector Regressor\n",
      "Model Performance on Train Data:\n",
      "MAE: 6.57700724251018, R2: 0.8081281585902299, RMSE: 4.869189452384868\n",
      "Model Performance on Test Data:\n",
      "MAE: 8.126623218622633, R2: 0.7286001513223705, RMSE: 5.4015392444969965\n",
      "-----------------------------------\n",
      "==================================================\n",
      "\n",
      "\n",
      "CatBoost Regressor\n",
      "Model Performance on Train Data:\n",
      "MAE: 3.042664195326799, R2: 0.9589358676277713, RMSE: 2.405393926779502\n",
      "Model Performance on Test Data:\n",
      "MAE: 6.008631956907363, R2: 0.8516318920747058, RMSE: 4.612531714976557\n",
      "-----------------------------------\n",
      "==================================================\n",
      "\n",
      "\n",
      "XGBoost Regressor\n",
      "Model Performance on Train Data:\n",
      "MAE: 1.0072816737145132, R2: 0.9954995512962341, RMSE: 0.687466561794281\n",
      "Model Performance on Test Data:\n",
      "MAE: 6.47330716071189, R2: 0.8277965784072876, RMSE: 5.057730674743652\n",
      "-----------------------------------\n",
      "==================================================\n",
      "\n",
      "\n"
     ]
    }
   ],
   "source": [
    "models={\n",
    "    'Linear Regression': LinearRegression(),\n",
    "    'Ridge Regression': Ridge(),\n",
    "    'Lasso Regression': Lasso(),\n",
    "    'Decision Tree Regressor': DecisionTreeRegressor(),\n",
    "    'Random Forest Regressor': RandomForestRegressor(),\n",
    "    'AdaBoost Regressor': AdaBoostRegressor(),\n",
    "    'Support Vector Regressor': SVR(),\n",
    "    'CatBoost Regressor': CatBoostRegressor(verbose=0),\n",
    "    'XGBoost Regressor': XGBRegressor(eval_metric='rmse')\n",
    "}\n",
    "model_list = []\n",
    "r2_list = []\n",
    "\n",
    "for i in range(len(list(models))):\n",
    "    model = list(models.values())[i]\n",
    "    model.fit(X_train, y_train)\n",
    "\n",
    "    y_train_pred = model.predict(X_train)\n",
    "    y_test_pred = model.predict(X_test)\n",
    "\n",
    "    model_train_mae, model_train_r2, model_train_rmse = evaluate_model(y_train, y_train_pred)\n",
    "    model_test_mae, model_test_r2, model_test_rmse = evaluate_model(y_test, y_test_pred)\n",
    "\n",
    "    print(list(models.keys())[i])\n",
    "    model_list.append(list(models.keys())[i])\n",
    "\n",
    "    print('Model Performance on Train Data:')\n",
    "    print(f'MAE: {model_train_mae}, R2: {model_train_r2}, RMSE: {model_train_rmse}')\n",
    "    print('Model Performance on Test Data:')\n",
    "    print(f'MAE: {model_test_mae}, R2: {model_test_r2}, RMSE: {model_test_rmse}')\n",
    "    print('-----------------------------------')\n",
    "    r2_list.append(model_test_r2)\n",
    "\n",
    "    print('='*50)\n",
    "    print('\\n')\n",
    "\n",
    "    "
   ]
  },
  {
   "cell_type": "code",
   "execution_count": 17,
   "id": "54c5598e",
   "metadata": {},
   "outputs": [
    {
     "data": {
      "text/html": [
       "<div>\n",
       "<style scoped>\n",
       "    .dataframe tbody tr th:only-of-type {\n",
       "        vertical-align: middle;\n",
       "    }\n",
       "\n",
       "    .dataframe tbody tr th {\n",
       "        vertical-align: top;\n",
       "    }\n",
       "\n",
       "    .dataframe thead th {\n",
       "        text-align: right;\n",
       "    }\n",
       "</style>\n",
       "<table border=\"1\" class=\"dataframe\">\n",
       "  <thead>\n",
       "    <tr style=\"text-align: right;\">\n",
       "      <th></th>\n",
       "      <th>Model</th>\n",
       "      <th>R2 Score</th>\n",
       "    </tr>\n",
       "  </thead>\n",
       "  <tbody>\n",
       "    <tr>\n",
       "      <th>1</th>\n",
       "      <td>Ridge Regression</td>\n",
       "      <td>0.880593</td>\n",
       "    </tr>\n",
       "    <tr>\n",
       "      <th>0</th>\n",
       "      <td>Linear Regression</td>\n",
       "      <td>0.880433</td>\n",
       "    </tr>\n",
       "    <tr>\n",
       "      <th>7</th>\n",
       "      <td>CatBoost Regressor</td>\n",
       "      <td>0.851632</td>\n",
       "    </tr>\n",
       "    <tr>\n",
       "      <th>5</th>\n",
       "      <td>AdaBoost Regressor</td>\n",
       "      <td>0.850425</td>\n",
       "    </tr>\n",
       "    <tr>\n",
       "      <th>4</th>\n",
       "      <td>Random Forest Regressor</td>\n",
       "      <td>0.848625</td>\n",
       "    </tr>\n",
       "    <tr>\n",
       "      <th>8</th>\n",
       "      <td>XGBoost Regressor</td>\n",
       "      <td>0.827797</td>\n",
       "    </tr>\n",
       "    <tr>\n",
       "      <th>2</th>\n",
       "      <td>Lasso Regression</td>\n",
       "      <td>0.825320</td>\n",
       "    </tr>\n",
       "    <tr>\n",
       "      <th>6</th>\n",
       "      <td>Support Vector Regressor</td>\n",
       "      <td>0.728600</td>\n",
       "    </tr>\n",
       "    <tr>\n",
       "      <th>3</th>\n",
       "      <td>Decision Tree Regressor</td>\n",
       "      <td>0.717615</td>\n",
       "    </tr>\n",
       "  </tbody>\n",
       "</table>\n",
       "</div>"
      ],
      "text/plain": [
       "                      Model  R2 Score\n",
       "1          Ridge Regression  0.880593\n",
       "0         Linear Regression  0.880433\n",
       "7        CatBoost Regressor  0.851632\n",
       "5        AdaBoost Regressor  0.850425\n",
       "4   Random Forest Regressor  0.848625\n",
       "8         XGBoost Regressor  0.827797\n",
       "2          Lasso Regression  0.825320\n",
       "6  Support Vector Regressor  0.728600\n",
       "3   Decision Tree Regressor  0.717615"
      ]
     },
     "execution_count": 17,
     "metadata": {},
     "output_type": "execute_result"
    }
   ],
   "source": [
    "pd.DataFrame({'Model': model_list, 'R2 Score': r2_list}).sort_values(by='R2 Score', ascending=False)"
   ]
  },
  {
   "cell_type": "code",
   "execution_count": 19,
   "id": "247857e5",
   "metadata": {},
   "outputs": [
    {
     "name": "stdout",
     "output_type": "stream",
     "text": [
      "Accuracy of Linear Regression Model: 88.04%\n"
     ]
    }
   ],
   "source": [
    "#We are going with Linear Regression as it has the highest R2 score\n",
    "linear_model = LinearRegression(fit_intercept=True)\n",
    "linear_model.fit(X_train, y_train)\n",
    "y_pred=linear_model.predict(X_test)\n",
    "score=r2_score(y_test, y_pred)*100\n",
    "print(f'Accuracy of Linear Regression Model: {score:.2f}%')"
   ]
  },
  {
   "cell_type": "code",
   "execution_count": 20,
   "id": "26993bbe",
   "metadata": {},
   "outputs": [
    {
     "data": {
      "text/plain": [
       "Text(0.5, 1.0, 'Actual vs Predicted Values')"
      ]
     },
     "execution_count": 20,
     "metadata": {},
     "output_type": "execute_result"
    },
    {
     "data": {
      "image/png": "[encoded data removed]",
      "text/plain": [
       "<Figure size 640x480 with 1 Axes>"
      ]
     },
     "metadata": {},
     "output_type": "display_data"
    }
   ],
   "source": [
    "#Plot y_pred and y_test\n",
    "plt.scatter(y_test, y_pred, color='blue', alpha=0.5)\n",
    "plt.xlabel('Actual Values')\n",
    "plt.ylabel('Predicted Values')\n",
    "plt.title('Actual vs Predicted Values')"
   ]
  },
  {
   "cell_type": "code",
   "execution_count": 21,
   "id": "d58ddc9f",
   "metadata": {},
   "outputs": [
    {
     "data": {
      "text/plain": [
       "<Axes: xlabel='math score'>"
      ]
     },
     "execution_count": 21,
     "metadata": {},
     "output_type": "execute_result"
    },
    {
     "data": {
      "image/png": "[encoded data removed]",
      "text/plain": [
       "<Figure size 640x480 with 1 Axes>"
      ]
     },
     "metadata": {},
     "output_type": "display_data"
    }
   ],
   "source": [
    "sns.regplot(x=y_test, y=y_pred, scatter_kws={'alpha':0.5}, line_kws={'color':'red'})"
   ]
  },
  {
   "cell_type": "code",
   "execution_count": 22,
   "id": "81022f63",
   "metadata": {},
   "outputs": [],
   "source": [
    "#Difference between y_test and y_pred\n",
    "diff =pd.DataFrame({'y_test': y_test, 'y_pred': y_pred})\n",
    "diff['Difference'] = diff['y_test'] - diff['y_pred']"
   ]
  },
  {
   "cell_type": "code",
   "execution_count": 23,
   "id": "2f00cb2e",
   "metadata": {},
   "outputs": [
    {
     "name": "stdout",
     "output_type": "stream",
     "text": [
      "     y_test     y_pred  Difference\n",
      "521      91  76.387970   14.612030\n",
      "737      53  58.885970   -5.885970\n",
      "740      80  76.990265    3.009735\n",
      "660      74  76.851804   -2.851804\n",
      "411      84  87.627378   -3.627378\n"
     ]
    }
   ],
   "source": [
    "print(diff.head())"
   ]
  },
  {
   "cell_type": "code",
   "execution_count": null,
   "id": "20325aff",
   "metadata": {},
   "outputs": [],
   "source": []
  }
 ],
 "metadata": {
  "kernelspec": {
   "display_name": ".venv",
   "language": "python",
   "name": "python3"
  },
  "language_info": {
   "codemirror_mode": {
    "name": "ipython",
    "version": 3
   },
   "file_extension": ".py",
   "mimetype": "text/x-python",
   "name": "python",
   "nbconvert_exporter": "python",
   "pygments_lexer": "ipython3",
   "version": "3.12.3"
  }
 },
 "nbformat": 4,
 "nbformat_minor": 5
}
